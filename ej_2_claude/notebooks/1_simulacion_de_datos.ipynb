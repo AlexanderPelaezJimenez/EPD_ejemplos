{
 "cells": [
  {
   "cell_type": "code",
   "execution_count": 1,
   "metadata": {},
   "outputs": [],
   "source": [
    "import numpy as np\n",
    "import pandas as pd"
   ]
  },
  {
   "cell_type": "code",
   "execution_count": 2,
   "metadata": {},
   "outputs": [],
   "source": [
    "# Generación de datos simulados\n",
    "\n",
    "np.random.seed(42)\n",
    "n = 730\n",
    "\n",
    "# Precio base y variación aleatoria\n",
    "precio_base = 1000\n",
    "precio = precio_base + np.random.normal(0, 50, n)\n",
    "\n",
    "# Demanda base y su relación con el precio (elasticidad negativa)\n",
    "demanda_base = 500\n",
    "elasticidad = -0.7\n",
    "demanda = demanda_base * (precio / precio_base) ** elasticidad"
   ]
  },
  {
   "cell_type": "code",
   "execution_count": 3,
   "metadata": {},
   "outputs": [],
   "source": [
    "# Añadir variación estacional y ruido\n",
    "\n",
    "tendencia = np.linspace(0, 0.1, n)\n",
    "estacionalidad = 50 * np.sin(np.linspace(0, 4*np.pi, n))\n",
    "ruido = np.random.normal(0, 20, n)\n",
    "\n",
    "demanda = demanda * (1 + tendencia) + estacionalidad + ruido"
   ]
  },
  {
   "cell_type": "code",
   "execution_count": 4,
   "metadata": {},
   "outputs": [],
   "source": [
    "# Crear Dataframe\n",
    "\n",
    "df = pd.DataFrame({\n",
    "    'fecha': pd.date_range(start=\"2022-01-01\", periods=n),\n",
    "    'precio': precio,\n",
    "    'demanda': demanda\n",
    "})"
   ]
  },
  {
   "cell_type": "code",
   "execution_count": 5,
   "metadata": {},
   "outputs": [
    {
     "data": {
      "text/html": [
       "<div>\n",
       "<style scoped>\n",
       "    .dataframe tbody tr th:only-of-type {\n",
       "        vertical-align: middle;\n",
       "    }\n",
       "\n",
       "    .dataframe tbody tr th {\n",
       "        vertical-align: top;\n",
       "    }\n",
       "\n",
       "    .dataframe thead th {\n",
       "        text-align: right;\n",
       "    }\n",
       "</style>\n",
       "<table border=\"1\" class=\"dataframe\">\n",
       "  <thead>\n",
       "    <tr style=\"text-align: right;\">\n",
       "      <th></th>\n",
       "      <th>fecha</th>\n",
       "      <th>precio</th>\n",
       "      <th>demanda</th>\n",
       "    </tr>\n",
       "  </thead>\n",
       "  <tbody>\n",
       "    <tr>\n",
       "      <th>0</th>\n",
       "      <td>2022-01-01</td>\n",
       "      <td>1024.835708</td>\n",
       "      <td>495.403900</td>\n",
       "    </tr>\n",
       "    <tr>\n",
       "      <th>1</th>\n",
       "      <td>2022-01-02</td>\n",
       "      <td>993.086785</td>\n",
       "      <td>483.797246</td>\n",
       "    </tr>\n",
       "    <tr>\n",
       "      <th>2</th>\n",
       "      <td>2022-01-03</td>\n",
       "      <td>1032.384427</td>\n",
       "      <td>498.991268</td>\n",
       "    </tr>\n",
       "    <tr>\n",
       "      <th>3</th>\n",
       "      <td>2022-01-04</td>\n",
       "      <td>1076.151493</td>\n",
       "      <td>443.690034</td>\n",
       "    </tr>\n",
       "    <tr>\n",
       "      <th>4</th>\n",
       "      <td>2022-01-05</td>\n",
       "      <td>988.292331</td>\n",
       "      <td>528.443462</td>\n",
       "    </tr>\n",
       "  </tbody>\n",
       "</table>\n",
       "</div>"
      ],
      "text/plain": [
       "       fecha       precio     demanda\n",
       "0 2022-01-01  1024.835708  495.403900\n",
       "1 2022-01-02   993.086785  483.797246\n",
       "2 2022-01-03  1032.384427  498.991268\n",
       "3 2022-01-04  1076.151493  443.690034\n",
       "4 2022-01-05   988.292331  528.443462"
      ]
     },
     "execution_count": 5,
     "metadata": {},
     "output_type": "execute_result"
    }
   ],
   "source": [
    "df.head()"
   ]
  },
  {
   "cell_type": "code",
   "execution_count": 6,
   "metadata": {},
   "outputs": [],
   "source": [
    "df.to_parquet('../data/df_1.parquet')"
   ]
  },
  {
   "cell_type": "code",
   "execution_count": null,
   "metadata": {},
   "outputs": [],
   "source": []
  }
 ],
 "metadata": {
  "kernelspec": {
   "display_name": "Python 3",
   "language": "python",
   "name": "python3"
  },
  "language_info": {
   "codemirror_mode": {
    "name": "ipython",
    "version": 3
   },
   "file_extension": ".py",
   "mimetype": "text/x-python",
   "name": "python",
   "nbconvert_exporter": "python",
   "pygments_lexer": "ipython3",
   "version": "3.11.4"
  }
 },
 "nbformat": 4,
 "nbformat_minor": 2
}
